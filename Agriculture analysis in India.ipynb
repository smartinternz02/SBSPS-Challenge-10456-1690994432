{
 "cells": [
  {
   "cell_type": "markdown",
   "id": "e72132cc",
   "metadata": {},
   "source": [
    "## This notebook file is the preparation of relevant datasets needed for this project."
   ]
  },
  {
   "cell_type": "markdown",
   "id": "e0b9cd66",
   "metadata": {},
   "source": [
    "## Relevant Datasets\n",
    "\n",
    "Here are the datasets that have been prepared for this project:\n",
    "\n",
    "- [Dataset 1: Crop Production Data](http://localhost:8888/edit/APY_final_dataset.csv)\n",
    "- [Dataset 2: Rainfall Data](http://localhost:8888/edit/rainfall_dataset.csv)\n",
    "- [Dataset 3: Soil Erosion Data](http://localhost:8888/edit/soil_erosion_data.csv)\n",
    "\n",
    "All the datasets are in csv format."
   ]
  },
  {
   "cell_type": "markdown",
   "id": "b1f15886",
   "metadata": {},
   "source": [
    "### Below python code is used to prepare all the relevant datasets."
   ]
  },
  {
   "cell_type": "code",
   "execution_count": 16,
   "id": "4bb3ab86",
   "metadata": {},
   "outputs": [],
   "source": [
    "# This code reads, cleans, and preprocesses agricultural data from a CSV file, addressing missing values and correcting state names for analysis.\n",
    "# Initial dataset is \"APY.csv\" is taken from kaggle. \n",
    "\n",
    "import pandas as pd\n",
    "csv_file = \"APY.csv\"\n",
    "df = pd.read_csv(csv_file)\n",
    "df.rename(columns={\"Production\": \"Production(Tonnes)\", \"Area\": \"Area(Hectares)\", \"Yield\": \"Yield(Tonnes/Hectare)\"}, inplace=True)\n",
    "unique_states = df[\"State\"].unique()\n",
    "df['State'] = df['State'].str.replace(' and ', ' & ')\n",
    "state_replacements = {\n",
    "    'Andaman & Nicobar Island': 'Andaman & Nicobar',\n",
    "    'Dadra & Nagar Haveli': 'Dadra and Nagar Haveli and Daman and Diu',\n",
    "    'Daman & Diu': 'Dadra and Nagar Haveli and Daman and Diu',\n",
    "    'THE DADRA AND NAGAR HAVELI': 'Dadra and Nagar Haveli and Daman and Diu',\n",
    "    'Laddak': 'Ladakh',\n",
    "    'CHANDIGARH' :'Chandigarh'\n",
    "}\n",
    "\n",
    "df['State'] = df['State'].replace(state_replacements)\n",
    "old_state_name = \"Dadra & Nagar Haveli & Daman & Diu\"\n",
    "new_state_name = \"Dadra & Nagar Haveli and Daman & Diu\"\n",
    "\n",
    "df.loc[df[\"State\"] == old_state_name, \"State\"] = new_state_name\n",
    "\n",
    "df.dropna(subset=['Crop'], inplace=True)\n",
    "\n",
    "production_median = df['Production(Tonnes)'].median()\n",
    "df['Production(Tonnes)'].fillna(production_median, inplace=True)\n",
    "\n",
    "new_csv_file = \"modified_data_APY.csv\"\n",
    "\n",
    "df.to_csv(new_csv_file, index=False)"
   ]
  },
  {
   "cell_type": "code",
   "execution_count": 17,
   "id": "83f48775",
   "metadata": {},
   "outputs": [],
   "source": [
    "# This code merges population data with agricultural data, aligning records based on corresponding years for analysis.\n",
    "# Initial dataset is \"indian population new.csv\" is taken from kaggle. \n",
    "\n",
    "population_file = \"indian population new.csv\"\n",
    "population_df = pd.read_csv(population_file)\n",
    "\n",
    "filtered_population_df = population_df[(population_df[\"Year\"] >= 1997) & (population_df[\"Year\"] <= 2020)]\n",
    "\n",
    "selected_population_df = filtered_population_df[[\"Year\", \"Population\"]]\n",
    "\n",
    "original_file = \"modified_data_APY.csv\"\n",
    "original_df = pd.read_csv(original_file)\n",
    "\n",
    "merged_df = original_df.merge(selected_population_df, left_on=\"Crop_Year\", right_on=\"Year\", how=\"left\")\n",
    "\n",
    "merged_df.drop(\"Year\", axis=1, inplace=True)\n",
    "\n",
    "main_csv_file = \"APY_main_dataset.csv\"\n",
    "merged_df.to_csv(main_csv_file, index=False)\n"
   ]
  },
  {
   "cell_type": "code",
   "execution_count": 18,
   "id": "90da1f38",
   "metadata": {},
   "outputs": [],
   "source": [
    "# This code add the data column of most used irrigation practice in each state.\n",
    "# This column will be merged to a dataset \"APY_main_dataset.csv\".\n",
    "\n",
    "df2 = pd.read_csv(\"APY_main_dataset.csv\")\n",
    "data = {\n",
    "    'State': [\n",
    "        'Andhra Pradesh', 'Arunachal Pradesh', 'Assam', 'Bihar', 'Chhattisgarh',\n",
    "        'Goa', 'Gujarat', 'Haryana', 'Himachal Pradesh', 'Jharkhand',\n",
    "        'Karnataka', 'Kerala', 'Madhya Pradesh', 'Maharashtra', 'Manipur',\n",
    "        'Meghalaya', 'Mizoram', 'Nagaland', 'Odisha', 'Punjab', 'Rajasthan',\n",
    "        'Sikkim', 'Tamil Nadu', 'Telangana', 'Tripura', 'Uttar Pradesh',\n",
    "        'Uttarakhand', 'West Bengal', 'Andaman & Nicobar', 'Chandigarh',\n",
    "        'Dadra and Nagar Haveli and Daman and Diu', 'Delhi', 'Jammu & Kashmir',\n",
    "        'Ladakh', 'Puducherry'\n",
    "    ],\n",
    "    'Most_Used_Irrigation': [\n",
    "        'Flood', 'Terrace', 'Flood', 'Flood', 'Drip', 'Flood', 'Drip', 'Flood',\n",
    "        'Terrace', 'Flood', 'Drip', 'Drip', 'Flood', 'Drip', 'Flood', 'Terrace',\n",
    "        'Terrace', 'Flood', 'Flood', 'Flood', 'Drip', 'Flood', 'Drip', 'Drip',\n",
    "        'Flood', 'Flood', 'Flood', 'Flood', 'Flood', 'Drip', 'Drip', 'Flood',\n",
    "        'Terrace', 'Drip', 'Drip'\n",
    "    ]\n",
    "}\n",
    "\n",
    "irrigation_data_df = pd.DataFrame(data)\n",
    "merged_final_df = pd.merge(df2, irrigation_data_df, on='State')\n",
    "merged_final_df.to_csv(\"APY_final_dataset.csv\", index=False)"
   ]
  },
  {
   "cell_type": "code",
   "execution_count": 1,
   "id": "41a683c1",
   "metadata": {},
   "outputs": [],
   "source": [
    "# This code loads, cleans, and prepares rainfall data for analysis, creating a focused dataset for further use.\n",
    "# Initial dataset is \"rainfaLLIndia.csv\" is taken from kaggle. \n",
    "\n",
    "rainfall_df = pd.read_csv(\"rainfaLLIndia.csv\")\n",
    "rainfall_df.rename(columns={\"subdivision\": \"State\"}, inplace=True)\n",
    "\n",
    "filtered_rainfall_df = rainfall_df[(rainfall_df[\"YEAR\"] >= 1997) & (rainfall_df[\"YEAR\"] <= 2020)]\n",
    "\n",
    "filtered_rainfall_df.rename(columns={\"JUN-SEP\": \"Monsoon_Rainfall\", \"YEAR\": \"Year\"}, inplace=True)\n",
    "\n",
    "selected_columns = [\"State\", \"Year\", \"Monsoon_Rainfall\"]\n",
    "new_dataset = filtered_rainfall_df.loc[:, selected_columns]\n",
    "\n",
    "new_dataset.to_csv(\"rainfall_dataset.csv\", index=False)"
   ]
  },
  {
   "cell_type": "code",
   "execution_count": 20,
   "id": "a9088463",
   "metadata": {},
   "outputs": [],
   "source": [
    "# soil erosion data by states in the year 2010(latest available data)\n",
    "\n",
    "data = {\n",
    "    'State': ['Andhra Pradesh (including Telangana)', 'Arunachal Pradesh', 'Assam', 'Bihar', 'Chhattisgarh', 'Delhi', 'Goa', 'Gujarat', 'Haryana', 'Himachal Pradesh', 'Jammu & Kashmir', 'Jharkhand', 'Karnataka', 'Kerala', 'Madhya Pradesh', 'Maharashtra', 'Manipur', 'Meghalaya', 'Mizoram', 'Nagaland', 'Orissa', 'Punjab', 'Rajasthan', 'Sikkim', 'Tamil Nadu', 'Tripura', 'Uttar Pradesh', 'Uttarakhand', 'West Bengal'],\n",
    "    'Area (\\'000 ha)': [8093, 666, 3248, 851, 3733, 28, 1, 984, 306, 982, 1369, 3219, 7522, 490, 12262, 8799, 122, 302, None, 46, 2227, 229, 19029, 45, 2308, 109, 13075, 1018, 1332]\n",
    "}\n",
    "# The above data dictionary consists of data which is collected from this website: \"https://pib.gov.in/PressReleaseIframePage.aspx?PRID=1810912\"\n",
    "\n",
    "df = pd.DataFrame(data)\n",
    "\n",
    "output_file = \"soil_erosion_data.csv\"\n",
    "df.to_csv(output_file, index=False)"
   ]
  },
  {
   "cell_type": "code",
   "execution_count": 1,
   "id": "9b77d738",
   "metadata": {},
   "outputs": [],
   "source": [
    "# This code make visualizations for highest crop production in each season.\n",
    "\n",
    "import plotly.express as px\n",
    "season_production = merged_final_df.groupby(['Crop', 'Season'])['Production(Tonnes)'].sum().reset_index()\n",
    "season_list =season_production.Season.unique()\n",
    "for i in season_list:\n",
    "  mask =season_production[season_production.Season == i]\n",
    "  mask=mask.sort_values('Production(Tonnes)', ascending=False)\n",
    "  top_crops = mask.head(10)\n",
    "  fig = px.bar(top_crops, x='Crop', y='Production(Tonnes)', title= 'Highest Crop Production in {}'.format(i))\n",
    "  fig.show()"
   ]
  }
 ],
 "metadata": {
  "kernelspec": {
   "display_name": "Python 3 (ipykernel)",
   "language": "python",
   "name": "python3"
  },
  "language_info": {
   "codemirror_mode": {
    "name": "ipython",
    "version": 3
   },
   "file_extension": ".py",
   "mimetype": "text/x-python",
   "name": "python",
   "nbconvert_exporter": "python",
   "pygments_lexer": "ipython3",
   "version": "3.9.12"
  }
 },
 "nbformat": 4,
 "nbformat_minor": 5
}
